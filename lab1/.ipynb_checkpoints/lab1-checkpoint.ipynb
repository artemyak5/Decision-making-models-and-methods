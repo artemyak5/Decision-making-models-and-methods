{
 "cells": [
  {
   "cell_type": "markdown",
   "id": "0d5ee3e5",
   "metadata": {},
   "source": [
    "<center style=\"font-size: 20px\"><b>Лабораторна робота №1</b></center>\n",
    "<hr>\n",
    "<center style=\"font-size: 18px\">Бінарні відношення</center>\n",
    "<hr>"
   ]
  },
  {
   "cell_type": "code",
   "execution_count": 1,
   "id": "f039d334",
   "metadata": {},
   "outputs": [],
   "source": [
    "import numpy as np"
   ]
  },
  {
   "cell_type": "code",
   "execution_count": 2,
   "id": "64d1eac1",
   "metadata": {},
   "outputs": [],
   "source": [
    "R = np.array([\n",
    "    [0, 1, 0, 1, 0],\n",
    "    [1, 1, 1, 1, 1],\n",
    "    [0, 0, 0, 1, 1],\n",
    "    [0, 0, 1, 1, 1],\n",
    "    [0, 1, 0, 0, 0]\n",
    "])"
   ]
  },
  {
   "cell_type": "markdown",
   "id": "9d1f67f7",
   "metadata": {},
   "source": [
    "<p style=\"font-size: 15px\">Перевірити, чи буде дане відношення рефлексивним, антирефлексивним, симетричним, антисиметричним, асиметричним, транзитивним.</p>"
   ]
  },
  {
   "cell_type": "code",
   "execution_count": 3,
   "id": "144b5da5",
   "metadata": {},
   "outputs": [],
   "source": [
    "def check_reflexivity(matrix):\n",
    "    for i in range(len(matrix)):\n",
    "        if matrix[i][i] != 1:\n",
    "            return False\n",
    "    return True\n",
    "\n",
    "\n",
    "def check_antireflexivity(matrix):\n",
    "    for i in range(len(matrix)):\n",
    "        if matrix[i][i] != 0:\n",
    "            return False\n",
    "    return True\n",
    "\n",
    "\n",
    "def check_symmetry(matrix):\n",
    "    for i in range(len(matrix)):\n",
    "        for j in range(len(matrix[0])):\n",
    "            if matrix[i][j] != matrix[j][i]:\n",
    "                return False\n",
    "    return True\n",
    "\n",
    "\n",
    "def check_antisymmetry(matrix):\n",
    "    for i in range(len(matrix)):\n",
    "        for j in range(len(matrix)):\n",
    "            if matrix[i][j] == 1 and matrix[j][i] == 1 and i != j:\n",
    "                return False\n",
    "    return True\n",
    "\n",
    "    return \n",
    "\n",
    "\n",
    "def check_asymmetry(matrix):\n",
    "    for i in range(len(matrix)):\n",
    "        for j in range(len(matrix)):\n",
    "            if matrix[i][j] != matrix[j][i]:\n",
    "                return False\n",
    "    return True\n",
    "\n",
    "\n",
    "def check_transitivity(matrix):\n",
    "    for i in range(len(matrix)):\n",
    "        for j in range(len(matrix)):\n",
    "            if matrix[i][j] == 1:\n",
    "                for k in range(len(matrix)):\n",
    "                    if matrix[j][k] == 1 and matrix[i][k] != 1:\n",
    "                        return False\n",
    "    return True\n"
   ]
  },
  {
   "cell_type": "markdown",
   "id": "45fbfa01",
   "metadata": {},
   "source": [
    "<p style=\"font-size: 15px\">Побудувати обернене й доповнене відношення.</p>"
   ]
  },
  {
   "cell_type": "code",
   "execution_count": 4,
   "id": "eaab8f90",
   "metadata": {},
   "outputs": [],
   "source": [
    "def find_inverse_relation(matrix):\n",
    "    return matrix.T\n",
    "\n",
    "def find_complement_relation(matrix):\n",
    "    return 1 - matrix"
   ]
  },
  {
   "cell_type": "code",
   "execution_count": 5,
   "id": "f97c1c98",
   "metadata": {},
   "outputs": [],
   "source": [
    "def find_strong_relation(R):\n",
    "    R_inverse = find_inverse_relation(R)\n",
    "    R_strong = R - R_inverse\n",
    "    for i in range(R_strong.shape[0]):\n",
    "        for j in range(R_strong.shape[1]):\n",
    "            if R_strong[i][j]<0: R_strong[i][j] = 0\n",
    "            else: \n",
    "                if R_strong[i][j]>1: R_strong[i][j] = 1\n",
    "    return R_strong"
   ]
  },
  {
   "cell_type": "markdown",
   "id": "44702db0",
   "metadata": {},
   "source": [
    "<p style=\"font-size: 15px\">Відшукати для відношення найбільший, найменший , максимальний та мінімальний елементи, якщо такі існують</p>"
   ]
  },
  {
   "cell_type": "code",
   "execution_count": 6,
   "id": "1c229a87",
   "metadata": {},
   "outputs": [],
   "source": [
    "def check_worst(matrix):\n",
    "    worst_indices = []\n",
    "    for j in range(len(matrix[0])):\n",
    "        all_ones = True\n",
    "        for i in range(len(matrix)):\n",
    "            if matrix[i][j] != 1:\n",
    "                all_ones = False\n",
    "                break\n",
    "        if all_ones:\n",
    "            worst_indices.append(f'x_{j + 1}')\n",
    "    return worst_indices\n",
    "\n",
    "def check_best(matrix):\n",
    "    best_indices = []\n",
    "    for i in range(len(matrix)):\n",
    "        if all(element == 1 for element in matrix[i]):\n",
    "            best_indices.append(f'x_{i + 1}')\n",
    "    return best_indices\n",
    "\n",
    "\n",
    "\n",
    "def check_min(matrix):\n",
    "    zero_i = []\n",
    "    strong_matrix = find_strong_relation(matrix)\n",
    "    for i in range(strong_matrix.shape[1]):\n",
    "        if np.all(strong_matrix[:, i] == 0):\n",
    "            zero_i.append(f'x_{i + 1}')\n",
    "    return zero_i\n",
    "\n",
    "\n",
    "def check_max(matrix):\n",
    "    zero_j = []\n",
    "    strong_matrix = find_strong_relation(matrix)\n",
    "    for j in range(strong_matrix.shape[0]):\n",
    "        if np.all(strong_matrix[:, j] == 0):\n",
    "            zero_j.append(f'x_{j + 1}')\n",
    "    return zero_j"
   ]
  },
  {
   "cell_type": "code",
   "execution_count": 7,
   "id": "0e8232db",
   "metadata": {
    "scrolled": false
   },
   "outputs": [
    {
     "name": "stdout",
     "output_type": "stream",
     "text": [
      "- Рефлексивна:  False\n",
      "- Антирефлексивна:  False\n",
      "- Симетрична:  False\n",
      "- Антисиметрична:  False\n",
      "- Асиметрична:  False\n",
      "- Транзитивна:  False\n",
      "- Обернене відношення:\n",
      "[0 1 0 0 0]\n",
      "[1 1 0 0 1]\n",
      "[0 1 0 1 0]\n",
      "[1 1 1 1 0]\n",
      "[0 1 1 1 0]\n",
      "- Доповнення відношення:\n",
      "[1 0 1 0 1]\n",
      "[0 0 0 0 0]\n",
      "[1 1 1 0 0]\n",
      "[1 1 0 0 0]\n",
      "[1 0 1 1 1]\n",
      "- strong_relation відношення:\n",
      "[0 0 0 1 0]\n",
      "[0 0 1 1 0]\n",
      "[0 0 0 0 1]\n",
      "[0 0 0 0 1]\n",
      "[0 0 0 0 0]\n",
      "- Найгірший:  []\n",
      "- Найкращий:  ['x_2']\n",
      "- Мінімальний:  []\n",
      "- Максимальний:  ['x_1', 'x_2']\n"
     ]
    }
   ],
   "source": [
    "def result(matrix):\n",
    "    print(\"- Рефлексивна: \", check_reflexivity(matrix))\n",
    "    print(\"- Антирефлексивна: \", check_antireflexivity(matrix))\n",
    "    print(\"- Симетрична: \", check_symmetry(matrix))\n",
    "    print(\"- Антисиметрична: \", check_antisymmetry(matrix))\n",
    "    print(\"- Асиметрична: \", check_asymmetry(matrix))\n",
    "    print(\"- Транзитивна: \", check_transitivity(matrix))\n",
    "\n",
    "    print(\"- Обернене відношення:\")\n",
    "    inverse_relation = find_inverse_relation(matrix)\n",
    "    for row in find_inverse_relation(matrix):\n",
    "        print(row)\n",
    "\n",
    "    print(\"- Доповнення відношення:\")\n",
    "    complement_relation = find_complement_relation(matrix)\n",
    "    for row in find_complement_relation(matrix):\n",
    "        print(row)\n",
    "    \n",
    "    print(\"- strong_relation відношення:\")\n",
    "    strong_relation = find_strong_relation(matrix)\n",
    "    for row in find_strong_relation(matrix):\n",
    "        print(row)\n",
    "\n",
    "    print(\"- Найгірший: \", check_worst(matrix))\n",
    "    print(\"- Найкращий: \", check_best(matrix))\n",
    "\n",
    "    print(\"- Мінімальний: \", check_min(matrix))\n",
    "    print(\"- Максимальний: \", check_max(matrix))\n",
    "\n",
    "result(R)"
   ]
  }
 ],
 "metadata": {
  "kernelspec": {
   "display_name": "Python 3 (ipykernel)",
   "language": "python",
   "name": "python3"
  },
  "language_info": {
   "codemirror_mode": {
    "name": "ipython",
    "version": 3
   },
   "file_extension": ".py",
   "mimetype": "text/x-python",
   "name": "python",
   "nbconvert_exporter": "python",
   "pygments_lexer": "ipython3",
   "version": "3.11.4"
  }
 },
 "nbformat": 4,
 "nbformat_minor": 5
}
