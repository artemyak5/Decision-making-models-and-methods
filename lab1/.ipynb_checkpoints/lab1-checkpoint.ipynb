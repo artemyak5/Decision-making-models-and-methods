{
 "cells": [
  {
   "cell_type": "markdown",
   "id": "3738c5a4",
   "metadata": {},
   "source": [
    "<center style=\"font-size: 20px\"><b>Лабораторна робота №1</b></center>\n",
    "<hr>\n",
    "<center style=\"font-size: 18px\">Бінарні відношення</center>\n",
    "<hr>"
   ]
  },
  {
   "cell_type": "code",
   "execution_count": 1,
   "id": "3418556d",
   "metadata": {},
   "outputs": [],
   "source": [
    "R = [\n",
    "    [0, 1, 0, 1, 0],\n",
    "    [1, 1, 1, 1, 1],\n",
    "    [0, 0, 0, 1, 1],\n",
    "    [0, 0, 1, 1, 1],\n",
    "    [0, 1, 0, 0, 0]\n",
    "]"
   ]
  },
  {
   "cell_type": "markdown",
   "id": "67a91c65",
   "metadata": {},
   "source": [
    "<p style=\"font-size: 15px\">Перевірити, чи буде дане відношення рефлексивним, антирефлексивним, симетричним, антисиметричним, асиметричним, транзитивним.</p>"
   ]
  },
  {
   "cell_type": "code",
   "execution_count": 2,
   "id": "4b9bb08f",
   "metadata": {},
   "outputs": [],
   "source": [
    "def check_reflexivity(matrix):\n",
    "    for i in range(len(matrix)):\n",
    "        if matrix[i][i] != 1:\n",
    "            return False\n",
    "    return True\n",
    "\n",
    "\n",
    "def check_antireflexivity(matrix):\n",
    "    for i in range(len(matrix)):\n",
    "        if matrix[i][i] != 0:\n",
    "            return False\n",
    "    return True\n",
    "\n",
    "\n",
    "def check_symmetry(matrix):\n",
    "    for i in range(len(matrix)):\n",
    "        for j in range(len(matrix[0])):\n",
    "            if matrix[i][j] != matrix[j][i]:\n",
    "                return False\n",
    "    return True\n",
    "\n",
    "\n",
    "def check_antisymmetry(matrix):\n",
    "    for i in range(len(matrix)):\n",
    "        for j in range(len(matrix)):\n",
    "            if matrix[i][j] == 1 and matrix[j][i] == 1 and i != j:\n",
    "                return False\n",
    "    return True\n",
    "\n",
    "    return \n",
    "\n",
    "\n",
    "def check_asymmetry(matrix):\n",
    "    for i in range(len(matrix)):\n",
    "        for j in range(len(matrix)):\n",
    "            if matrix[i][j] != matrix[j][i]:\n",
    "                return False\n",
    "    return True\n",
    "\n",
    "\n",
    "def check_transitivity(matrix):\n",
    "    for i in range(len(matrix)):\n",
    "        for j in range(len(matrix)):\n",
    "            if matrix[i][j] == 1:\n",
    "                for k in range(len(matrix)):\n",
    "                    if matrix[j][k] == 1 and matrix[i][k] != 1:\n",
    "                        return False\n",
    "    return True\n"
   ]
  },
  {
   "cell_type": "markdown",
   "id": "be425505",
   "metadata": {},
   "source": [
    "<p style=\"font-size: 15px\">Відшукати для відношення найбільший, найменший , максимальний та мінімальний елементи, якщо такі існують</p>"
   ]
  },
  {
   "cell_type": "code",
   "execution_count": 3,
   "id": "402d352d",
   "metadata": {},
   "outputs": [],
   "source": [
    "def find_min_element(matrix):\n",
    "    num_columns = len(matrix[0])  \n",
    "    max_ones_count = 0 \n",
    "    max_ones_column = None\n",
    "\n",
    "    for j in range(num_columns):  \n",
    "        ones_count = sum(row[j] for row in matrix)  \n",
    "        if ones_count > max_ones_count:  \n",
    "            max_ones_count = ones_count  \n",
    "            max_ones_column = j  \n",
    "\n",
    "    return max_ones_column + 1\n",
    "\n",
    "def find_max_element(matrix):\n",
    "    num_columns = len(matrix[0])  \n",
    "    min_ones_count = len(matrix) + 1  \n",
    "    min_ones_column = None \n",
    "\n",
    "    for j in range(num_columns):  \n",
    "        ones_count = sum(row[j] for row in matrix)  \n",
    "        if ones_count < min_ones_count:  \n",
    "            min_ones_count = ones_count  \n",
    "            min_ones_column = j  \n",
    "\n",
    "    return min_ones_column + 1  "
   ]
  },
  {
   "cell_type": "markdown",
   "id": "8eabab51",
   "metadata": {},
   "source": [
    "<p style=\"font-size: 15px\">Побудувати обернене й доповнене відношення.</p>"
   ]
  },
  {
   "cell_type": "code",
   "execution_count": 4,
   "id": "4f3eb28d",
   "metadata": {},
   "outputs": [],
   "source": [
    "def find_inverse_relation(matrix):\n",
    "    inverse_relation = [[matrix[j][i] for j in range(len(matrix))] for i in range(len(matrix[0]))]\n",
    "    return inverse_relation\n",
    "\n",
    "\n",
    "def find_complement_relation(matrix):\n",
    "    complement_relation = [[1 if matrix[i][j] == 0 else 0 for j in range(len(matrix[0]))] for i in range(len(matrix))]\n",
    "    return complement_relation"
   ]
  },
  {
   "cell_type": "code",
   "execution_count": 9,
   "id": "eaf2d218",
   "metadata": {},
   "outputs": [
    {
     "name": "stdout",
     "output_type": "stream",
     "text": [
      "- Рефлексивна:  False\n",
      "- Антирефлексивна:  False\n",
      "- Симетрична:  False\n",
      "- Антисиметрична:  False\n",
      "- Асиметрична:  False\n",
      "- Транзитивна:  False\n",
      "- Максимальний елемент: x1\n",
      "- Мінімальний елемент: x4\n",
      "- Обернене відношення:\n",
      "[0, 1, 0, 0, 0]\n",
      "[1, 1, 0, 0, 1]\n",
      "[0, 1, 0, 1, 0]\n",
      "[1, 1, 1, 1, 0]\n",
      "[0, 1, 1, 1, 0]\n",
      "- Доповнення відношення:\n",
      "[1, 0, 1, 0, 1]\n",
      "[0, 0, 0, 0, 0]\n",
      "[1, 1, 1, 0, 0]\n",
      "[1, 1, 0, 0, 0]\n",
      "[1, 0, 1, 1, 1]\n"
     ]
    }
   ],
   "source": [
    "def result(matrix):\n",
    "    print(\"- Рефлексивна: \", check_reflexivity(matrix))\n",
    "    print(\"- Антирефлексивна: \", check_antireflexivity(matrix))\n",
    "    print(\"- Симетрична: \", check_symmetry(matrix))\n",
    "    print(\"- Антисиметрична: \", check_antisymmetry(matrix))\n",
    "    print(\"- Асиметрична: \", check_asymmetry(matrix))\n",
    "    print(\"- Транзитивна: \", check_transitivity(matrix))\n",
    "    print(\"- Максимальний елемент: x{}\".format(find_max_element(matrix)))\n",
    "    print(\"- Мінімальний елемент: x{}\".format(find_min_element(matrix)))\n",
    "\n",
    "    print(\"- Обернене відношення:\")\n",
    "    inverse_relation = find_inverse_relation(matrix)\n",
    "    for row in find_inverse_relation(matrix):\n",
    "        print(row)\n",
    "\n",
    "    print(\"- Доповнення відношення:\")\n",
    "    complement_relation = find_complement_relation(matrix)\n",
    "    for row in find_complement_relation(matrix):\n",
    "        print(row)\n",
    "\n",
    "result(R)"
   ]
  },
  {
   "cell_type": "code",
   "execution_count": null,
   "id": "e4c453b1",
   "metadata": {},
   "outputs": [],
   "source": []
  },
  {
   "cell_type": "code",
   "execution_count": null,
   "id": "4569661c",
   "metadata": {},
   "outputs": [],
   "source": []
  }
 ],
 "metadata": {
  "kernelspec": {
   "display_name": "Python 3 (ipykernel)",
   "language": "python",
   "name": "python3"
  },
  "language_info": {
   "codemirror_mode": {
    "name": "ipython",
    "version": 3
   },
   "file_extension": ".py",
   "mimetype": "text/x-python",
   "name": "python",
   "nbconvert_exporter": "python",
   "pygments_lexer": "ipython3",
   "version": "3.11.4"
  }
 },
 "nbformat": 4,
 "nbformat_minor": 5
}
